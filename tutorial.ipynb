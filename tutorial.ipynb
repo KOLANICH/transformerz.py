{
	"cells": [{
			"cell_type": "markdown",
			"metadata": {},
			"source": ["Transformers are just a composable way to process the data. `process` does this one way, `unprocess` does the reverse. Usually `process` means something applied when reading, and `unprocess` means something applied when writing. The terminology is inherited from Kaitai Struct, where `process` key in a dict was used to transform byte arrays before parsing them. The following example teaches you to serialize data using `transformerz` lib."]
		}, {
			"cell_type": "code",
			"execution_count": 1,
			"metadata": {},
			"outputs": [],
			"source": ["testJsonDict = {\"abolish\": [\"patent\", \"copyright\"]}"]
		}, {
			"cell_type": "code",
			"execution_count": 2,
			"metadata": {},
			"outputs": [{
					"name": "stdout",
					"output_type": "stream",
					"text": ["{\n", "\t\"abolish\": [\n", "\t\t\"patent\",\n", "\t\t\"copyright\"\n", "\t]\n", "}\n"]
				}
			],
			"source": ["from transformerz.serialization.json import jsonFancySerializer\n", "\n", "print(jsonFancySerializer.unprocess(testJsonDict))"]
		}, {
			"cell_type": "code",
			"execution_count": 3,
			"metadata": {},
			"outputs": [{
					"name": "stdout",
					"output_type": "stream",
					"text": ["[None]\n"]
				}
			],
			"source": ["print(jsonFancySerializer.process(\"[null]\"))"]
		}, {
			"cell_type": "markdown",
			"metadata": {},
			"source": [" They can be composed using `+` operation. "]
		}, {
			"cell_type": "code",
			"execution_count": 4,
			"metadata": {},
			"outputs": [{
					"name": "stdout",
					"output_type": "stream",
					"text": ["'{\\n\\t\"abolish\": [\\n\\t\\t\"patent\",\\n\\t\\t\"copyright\"\\n\\t]\\n}'\n"]
				}
			],
			"source": ["from transformerz.serialization.pon import ponSerializer  # JSON <-> JavaScript === PON <-> Python\n", "\n", "print((ponSerializer + jsonFancySerializer).unprocess(testJsonDict))  # Returns a \"PON\" `str` in which a JSON string is serialized"]
		}, {
			"cell_type": "code",
			"execution_count": 5,
			"metadata": {},
			"outputs": [{
					"name": "stdout",
					"output_type": "stream",
					"text": ["\"{'abolish': ['patent', 'copyright']}\"\n"]
				}
			],
			"source": ["print((jsonFancySerializer + ponSerializer).unprocess(testJsonDict))  # Returns a JSON `str` in which \"PON\" string is serialized"]
		}, {
			"cell_type": "markdown",
			"metadata": {},
			"source": ["But you cannot save strings into files, you need to save bytes into files ..."]
		}, {
			"cell_type": "code",
			"execution_count": 6,
			"metadata": {},
			"outputs": [{
					"name": "stdout",
					"output_type": "stream",
					"text": ["b'{\\n\\t\"abolish\": [\\n\\t\\t\"patent\",\\n\\t\\t\"copyright\"\\n\\t]\\n}'\n"]
				}
			],
			"source": ["from transformerz.text import utf8Transformer\n", "\n", "print((utf8Transformer + jsonFancySerializer).unprocess(testJsonDict))  # Returns raw bytes of a JSON string is serialized"]
		}, {
			"cell_type": "markdown",
			"metadata": {},
			"source": ["The data can be compressed. For compression we use the stuff available in my fork of `kaitai.compress` library (I hope it would be merged somewhen). `BinaryProcessor` is an adapter allowing to use the stuff from that lib."]
		}, {
			"cell_type": "code",
			"execution_count": 7,
			"metadata": {},
			"outputs": [{
					"name": "stdout",
					"output_type": "stream",
					"text": ["b'x\\x9c\\xed\\xc41\\r\\x000\\x08\\x000)\\xb3\\x82\\x97-{\\xb8\\x11\\x83[\\x12t\\xb4G\\xfb\\xc4\\xfbuS\\x92$I\\x92$I\\x92$I\\x92$I\\x92$I\\x92$I\\x92$I\\x92$I\\x92$I\\x92$I\\x92$I\\x92$I\\x92$I\\x92$I\\x92$I\\x92$I\\x92$I\\x92$I\\x92$I\\xd26q\\xa6\\x1a\\xf9'\n"]
				}
			],
			"source": ["from transformerz.compression import BinaryProcessor\n", "from transformerz.kaitai.compress import Zlib\n", "from transformerz.serialization.cbor import cborSerializer\n", "\n", "lzmaProcessor = BinaryProcessor(\"lzma\", Zlib())  # You must name your processor!\n", "print((lzmaProcessor + cborSerializer).unprocess([\"fuck\"] * 8000))  # Returns ZLIB-compressed BSON-serialized tokens of Spider Jerusalem's reaction on Joe Biden's election"]
		}
	],
	"metadata": {
		"kernelspec": {
			"display_name": "Python 3",
			"language": "python",
			"name": "python3"
		},
		"language_info": {
			"codemirror_mode": {
				"name": "ipython",
				"version": 3
			},
			"file_extension": ".py",
			"mimetype": "text/x-python",
			"name": "python",
			"nbconvert_exporter": "python",
			"pygments_lexer": "ipython3",
			"version": "3.9"
		}
	},
	"nbformat": 4,
	"nbformat_minor": 4
}
